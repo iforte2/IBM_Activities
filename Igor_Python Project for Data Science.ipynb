{
 "cells": [
  {
   "cell_type": "code",
   "execution_count": 2,
   "id": "b7c6b899-db1d-4735-9f26-0cb0280bddb3",
   "metadata": {},
   "outputs": [
    {
     "name": "stdout",
     "output_type": "stream",
     "text": [
      "Requirement already satisfied: yfinance in /home/jupyterlab/conda/envs/python/lib/python3.7/site-packages (0.2.12)\n",
      "Requirement already satisfied: cryptography>=3.3.2 in /home/jupyterlab/conda/envs/python/lib/python3.7/site-packages (from yfinance) (38.0.2)\n",
      "Requirement already satisfied: pytz>=2022.5 in /home/jupyterlab/conda/envs/python/lib/python3.7/site-packages (from yfinance) (2022.6)\n",
      "Requirement already satisfied: appdirs>=1.4.4 in /home/jupyterlab/conda/envs/python/lib/python3.7/site-packages (from yfinance) (1.4.4)\n",
      "Requirement already satisfied: html5lib>=1.1 in /home/jupyterlab/conda/envs/python/lib/python3.7/site-packages (from yfinance) (1.1)\n",
      "Requirement already satisfied: beautifulsoup4>=4.11.1 in /home/jupyterlab/conda/envs/python/lib/python3.7/site-packages (from yfinance) (4.11.1)\n",
      "Requirement already satisfied: frozendict>=2.3.4 in /home/jupyterlab/conda/envs/python/lib/python3.7/site-packages (from yfinance) (2.3.5)\n",
      "Requirement already satisfied: multitasking>=0.0.7 in /home/jupyterlab/conda/envs/python/lib/python3.7/site-packages (from yfinance) (0.0.11)\n",
      "Requirement already satisfied: lxml>=4.9.1 in /home/jupyterlab/conda/envs/python/lib/python3.7/site-packages (from yfinance) (4.9.1)\n",
      "Requirement already satisfied: numpy>=1.16.5 in /home/jupyterlab/conda/envs/python/lib/python3.7/site-packages (from yfinance) (1.21.6)\n",
      "Requirement already satisfied: pandas>=1.3.0 in /home/jupyterlab/conda/envs/python/lib/python3.7/site-packages (from yfinance) (1.3.5)\n",
      "Requirement already satisfied: requests>=2.26 in /home/jupyterlab/conda/envs/python/lib/python3.7/site-packages (from yfinance) (2.28.1)\n",
      "Requirement already satisfied: soupsieve>1.2 in /home/jupyterlab/conda/envs/python/lib/python3.7/site-packages (from beautifulsoup4>=4.11.1->yfinance) (2.3.2.post1)\n",
      "Requirement already satisfied: cffi>=1.12 in /home/jupyterlab/conda/envs/python/lib/python3.7/site-packages (from cryptography>=3.3.2->yfinance) (1.15.1)\n",
      "Requirement already satisfied: webencodings in /home/jupyterlab/conda/envs/python/lib/python3.7/site-packages (from html5lib>=1.1->yfinance) (0.5.1)\n",
      "Requirement already satisfied: six>=1.9 in /home/jupyterlab/conda/envs/python/lib/python3.7/site-packages (from html5lib>=1.1->yfinance) (1.16.0)\n",
      "Requirement already satisfied: python-dateutil>=2.7.3 in /home/jupyterlab/conda/envs/python/lib/python3.7/site-packages (from pandas>=1.3.0->yfinance) (2.8.2)\n",
      "Requirement already satisfied: charset-normalizer<3,>=2 in /home/jupyterlab/conda/envs/python/lib/python3.7/site-packages (from requests>=2.26->yfinance) (2.1.1)\n",
      "Requirement already satisfied: certifi>=2017.4.17 in /home/jupyterlab/conda/envs/python/lib/python3.7/site-packages (from requests>=2.26->yfinance) (2022.9.24)\n",
      "Requirement already satisfied: urllib3<1.27,>=1.21.1 in /home/jupyterlab/conda/envs/python/lib/python3.7/site-packages (from requests>=2.26->yfinance) (1.26.13)\n",
      "Requirement already satisfied: idna<4,>=2.5 in /home/jupyterlab/conda/envs/python/lib/python3.7/site-packages (from requests>=2.26->yfinance) (3.4)\n",
      "Requirement already satisfied: pycparser in /home/jupyterlab/conda/envs/python/lib/python3.7/site-packages (from cffi>=1.12->cryptography>=3.3.2->yfinance) (2.21)\n",
      "                                 Open        High         Low       Close  \\\n",
      "Date                                                                        \n",
      "2018-03-19 00:00:00-04:00   21.100000   21.383333   20.644667   20.903999   \n",
      "2018-03-20 00:00:00-04:00   20.991333   21.083332   20.584000   20.703333   \n",
      "2018-03-21 00:00:00-04:00   20.683332   21.496000   20.679333   21.101999   \n",
      "2018-03-22 00:00:00-04:00   20.926001   21.254667   20.545334   20.606667   \n",
      "2018-03-23 00:00:00-04:00   20.750000   20.750000   20.030001   20.102667   \n",
      "...                               ...         ...         ...         ...   \n",
      "2023-03-10 00:00:00-05:00  175.130005  178.289993  168.440002  173.440002   \n",
      "2023-03-13 00:00:00-04:00  167.460007  177.350006  163.910004  174.479996   \n",
      "2023-03-14 00:00:00-04:00  177.309998  183.800003  177.139999  183.259995   \n",
      "2023-03-15 00:00:00-04:00  180.800003  182.339996  176.029999  180.449997   \n",
      "2023-03-16 00:00:00-04:00  180.365005  185.809998  178.839996  184.130005   \n",
      "\n",
      "                              Volume  Dividends  Stock Splits  \n",
      "Date                                                           \n",
      "2018-03-19 00:00:00-04:00  112264500        0.0           0.0  \n",
      "2018-03-20 00:00:00-04:00   71464500        0.0           0.0  \n",
      "2018-03-21 00:00:00-04:00   89376000        0.0           0.0  \n",
      "2018-03-22 00:00:00-04:00   74097000        0.0           0.0  \n",
      "2018-03-23 00:00:00-04:00   99823500        0.0           0.0  \n",
      "...                              ...        ...           ...  \n",
      "2023-03-10 00:00:00-05:00  191007900        0.0           0.0  \n",
      "2023-03-13 00:00:00-04:00  167790300        0.0           0.0  \n",
      "2023-03-14 00:00:00-04:00  143717900        0.0           0.0  \n",
      "2023-03-15 00:00:00-04:00  145995600        0.0           0.0  \n",
      "2023-03-16 00:00:00-04:00  119907785        0.0           0.0  \n",
      "\n",
      "[1258 rows x 7 columns]\n"
     ]
    }
   ],
   "source": [
    "!pip install yfinance\n",
    "import yfinance as yf\n",
    "\n",
    "tesla = yf.Ticker(\"TSLA\")\n",
    "tesla_stock_data = tesla.history(period=\"5y\")\n",
    "print(tesla_stock_data)"
   ]
  },
  {
   "cell_type": "code",
   "execution_count": 3,
   "id": "08b515c6-5be1-4c20-85fd-c53316736933",
   "metadata": {},
   "outputs": [
    {
     "name": "stdout",
     "output_type": "stream",
     "text": [
      "                                 Open        High         Low       Close  \\\n",
      "Date                                                                        \n",
      "2018-03-19 00:00:00-04:00   21.100000   21.383333   20.644667   20.903999   \n",
      "2018-03-20 00:00:00-04:00   20.991333   21.083332   20.584000   20.703333   \n",
      "2018-03-21 00:00:00-04:00   20.683332   21.496000   20.679333   21.101999   \n",
      "2018-03-22 00:00:00-04:00   20.926001   21.254667   20.545334   20.606667   \n",
      "2018-03-23 00:00:00-04:00   20.750000   20.750000   20.030001   20.102667   \n",
      "...                               ...         ...         ...         ...   \n",
      "2023-03-10 00:00:00-05:00  175.130005  178.289993  168.440002  173.440002   \n",
      "2023-03-13 00:00:00-04:00  167.460007  177.350006  163.910004  174.479996   \n",
      "2023-03-14 00:00:00-04:00  177.309998  183.800003  177.139999  183.259995   \n",
      "2023-03-15 00:00:00-04:00  180.800003  182.339996  176.029999  180.449997   \n",
      "2023-03-16 00:00:00-04:00  180.365005  185.809998  178.839996  184.130005   \n",
      "\n",
      "                              Volume  Dividends  Stock Splits  \n",
      "Date                                                           \n",
      "2018-03-19 00:00:00-04:00  112264500        0.0           0.0  \n",
      "2018-03-20 00:00:00-04:00   71464500        0.0           0.0  \n",
      "2018-03-21 00:00:00-04:00   89376000        0.0           0.0  \n",
      "2018-03-22 00:00:00-04:00   74097000        0.0           0.0  \n",
      "2018-03-23 00:00:00-04:00   99823500        0.0           0.0  \n",
      "...                              ...        ...           ...  \n",
      "2023-03-10 00:00:00-05:00  191007900        0.0           0.0  \n",
      "2023-03-13 00:00:00-04:00  167790300        0.0           0.0  \n",
      "2023-03-14 00:00:00-04:00  143717900        0.0           0.0  \n",
      "2023-03-15 00:00:00-04:00  145995600        0.0           0.0  \n",
      "2023-03-16 00:00:00-04:00  119907785        0.0           0.0  \n",
      "\n",
      "[1258 rows x 7 columns]\n"
     ]
    }
   ],
   "source": [
    "import yfinance as yf\n",
    "\n",
    "tesla = yf.Ticker(\"TSLA\")\n",
    "tesla_stock_data = tesla.history(period=\"5y\")\n",
    "print(tesla_stock_data)"
   ]
  },
  {
   "cell_type": "code",
   "execution_count": 6,
   "id": "bfa1c951-6db8-4324-b0dc-8a8d705c2c5b",
   "metadata": {},
   "outputs": [
    {
     "name": "stdout",
     "output_type": "stream",
     "text": [
      "   Tesla Quarterly Revenue(Millions of US $)  \\\n",
      "50                                2010-06-30   \n",
      "51                                2010-03-31   \n",
      "52                                2009-12-31   \n",
      "53                                2009-09-30   \n",
      "54                                2009-06-30   \n",
      "\n",
      "   Tesla Quarterly Revenue(Millions of US $).1  \n",
      "50                                         $28  \n",
      "51                                         $21  \n",
      "52                                         NaN  \n",
      "53                                         $46  \n",
      "54                                         $27  \n"
     ]
    }
   ],
   "source": [
    "import requests\n",
    "from bs4 import BeautifulSoup\n",
    "import pandas as pd\n",
    "\n",
    "url = \"https://www.macrotrends.net/stocks/charts/TSLA/tesla/revenue\"\n",
    "html_data = requests.get(url).text\n",
    "soup = BeautifulSoup(html_data, \"html.parser\")\n",
    "\n",
    "tesla_revenue_table = soup.find_all(\"table\", attrs={\"class\": \"historical_data_table table\"})[1]\n",
    "tesla_revenue_data = pd.read_html(str(tesla_revenue_table))[0]\n",
    "print(tesla_revenue_data.tail())"
   ]
  },
  {
   "cell_type": "code",
   "execution_count": 7,
   "id": "a611e808-0715-4f4f-b4d4-0283fe89037a",
   "metadata": {},
   "outputs": [
    {
     "name": "stdout",
     "output_type": "stream",
     "text": [
      "                       Date      Open      High       Low     Close    Volume  \\\n",
      "0 2018-03-19 00:00:00-04:00  3.409955  3.447993  3.302555  3.313743  15904400   \n",
      "1 2018-03-20 00:00:00-04:00  3.315980  3.345067  3.210817  3.237667  17136000   \n",
      "2 2018-03-21 00:00:00-04:00  3.201868  3.233193  3.134743  3.136980  17644800   \n",
      "3 2018-03-22 00:00:00-04:00  3.119080  3.152642  3.040767  3.094467  17769200   \n",
      "4 2018-03-23 00:00:00-04:00  3.114605  3.119080  3.018392  3.020630  15245600   \n",
      "\n",
      "   Dividends  Stock Splits  \n",
      "0        0.0           0.0  \n",
      "1        0.0           0.0  \n",
      "2        0.0           0.0  \n",
      "3        0.0           0.0  \n",
      "4        0.0           0.0  \n"
     ]
    }
   ],
   "source": [
    "gamestop = yf.Ticker(\"GME\")\n",
    "gamestop_stock_data = gamestop.history(period=\"5y\")\n",
    "gamestop_stock_data_reset = gamestop_stock_data.reset_index()\n",
    "print(gamestop_stock_data_reset.head())"
   ]
  },
  {
   "cell_type": "code",
   "execution_count": 8,
   "id": "88061127-1587-4539-9fc6-7be00a0bf0a1",
   "metadata": {},
   "outputs": [
    {
     "name": "stdout",
     "output_type": "stream",
     "text": [
      "   GameStop Quarterly Revenue(Millions of US $)  \\\n",
      "51                                   2010-01-31   \n",
      "52                                   2009-10-31   \n",
      "53                                   2009-07-31   \n",
      "54                                   2009-04-30   \n",
      "55                                   2009-01-31   \n",
      "\n",
      "   GameStop Quarterly Revenue(Millions of US $).1  \n",
      "51                                         $3,524  \n",
      "52                                         $1,835  \n",
      "53                                         $1,739  \n",
      "54                                         $1,981  \n",
      "55                                         $3,492  \n"
     ]
    }
   ],
   "source": [
    "url = \"https://www.macrotrends.net/stocks/charts/GME/gamestop/revenue\"\n",
    "html_data = requests.get(url).text\n",
    "soup = BeautifulSoup(html_data, \"html.parser\")\n",
    "\n",
    "gamestop_revenue_table = soup.find_all(\"table\", attrs={\"class\": \"historical_data_table table\"})[1]\n",
    "gamestop_revenue_data = pd.read_html(str(gamestop_revenue_table))[0]\n",
    "print(gamestop_revenue_data.tail())"
   ]
  },
  {
   "cell_type": "code",
   "execution_count": 9,
   "id": "38fd1f23-fa49-4dc9-a6cf-3bf8db3277cc",
   "metadata": {},
   "outputs": [
    {
     "name": "stdout",
     "output_type": "stream",
     "text": [
      "Collecting streamlit\n",
      "  Downloading streamlit-1.20.0-py2.py3-none-any.whl (9.6 MB)\n",
      "\u001b[2K     \u001b[90m━━━━━━━━━━━━━━━━━━━━━━━━━━━━━━━━━━━━━━━━\u001b[0m \u001b[32m9.6/9.6 MB\u001b[0m \u001b[31m52.5 MB/s\u001b[0m eta \u001b[36m0:00:00\u001b[0m:00:01\u001b[0m00:01\u001b[0m\n",
      "\u001b[?25hCollecting protobuf<4,>=3.12\n",
      "  Downloading protobuf-3.20.3-cp37-cp37m-manylinux_2_5_x86_64.manylinux1_x86_64.whl (1.0 MB)\n",
      "\u001b[2K     \u001b[90m━━━━━━━━━━━━━━━━━━━━━━━━━━━━━━━━━━━━━━━━\u001b[0m \u001b[32m1.0/1.0 MB\u001b[0m \u001b[31m64.9 MB/s\u001b[0m eta \u001b[36m0:00:00\u001b[0m\n",
      "\u001b[?25hRequirement already satisfied: rich>=10.11.0 in /home/jupyterlab/conda/envs/python/lib/python3.7/site-packages (from streamlit) (12.6.0)\n",
      "Requirement already satisfied: numpy in /home/jupyterlab/conda/envs/python/lib/python3.7/site-packages (from streamlit) (1.21.6)\n",
      "Collecting semver\n",
      "  Downloading semver-2.13.0-py2.py3-none-any.whl (12 kB)\n",
      "Collecting validators>=0.2\n",
      "  Downloading validators-0.20.0.tar.gz (30 kB)\n",
      "  Preparing metadata (setup.py) ... \u001b[?25ldone\n",
      "\u001b[?25hRequirement already satisfied: packaging>=14.1 in /home/jupyterlab/conda/envs/python/lib/python3.7/site-packages (from streamlit) (21.3)\n",
      "Requirement already satisfied: typing-extensions>=3.10.0.0 in /home/jupyterlab/conda/envs/python/lib/python3.7/site-packages (from streamlit) (4.4.0)\n",
      "Requirement already satisfied: click>=7.0 in /home/jupyterlab/conda/envs/python/lib/python3.7/site-packages (from streamlit) (8.1.3)\n",
      "Collecting altair<5,>=3.2.0\n",
      "  Downloading altair-4.2.2-py3-none-any.whl (813 kB)\n",
      "\u001b[2K     \u001b[90m━━━━━━━━━━━━━━━━━━━━━━━━━━━━━━━━━━━━━━\u001b[0m \u001b[32m813.6/813.6 kB\u001b[0m \u001b[31m57.3 MB/s\u001b[0m eta \u001b[36m0:00:00\u001b[0m\n",
      "\u001b[?25hRequirement already satisfied: tornado>=6.0.3 in /home/jupyterlab/conda/envs/python/lib/python3.7/site-packages (from streamlit) (6.2)\n",
      "Requirement already satisfied: requests>=2.4 in /home/jupyterlab/conda/envs/python/lib/python3.7/site-packages (from streamlit) (2.28.1)\n",
      "Collecting gitpython!=3.1.19\n",
      "  Downloading GitPython-3.1.31-py3-none-any.whl (184 kB)\n",
      "\u001b[2K     \u001b[90m━━━━━━━━━━━━━━━━━━━━━━━━━━━━━━━━━━━━━━\u001b[0m \u001b[32m184.3/184.3 kB\u001b[0m \u001b[31m28.9 MB/s\u001b[0m eta \u001b[36m0:00:00\u001b[0m\n",
      "\u001b[?25hCollecting watchdog\n",
      "  Downloading watchdog-2.3.1-py3-none-manylinux2014_x86_64.whl (80 kB)\n",
      "\u001b[2K     \u001b[90m━━━━━━━━━━━━━━━━━━━━━━━━━━━━━━━━━━━━━━━━\u001b[0m \u001b[32m80.6/80.6 kB\u001b[0m \u001b[31m13.7 MB/s\u001b[0m eta \u001b[36m0:00:00\u001b[0m\n",
      "\u001b[?25hCollecting blinker>=1.0.0\n",
      "  Downloading blinker-1.5-py2.py3-none-any.whl (12 kB)\n",
      "Collecting pydeck>=0.1.dev5\n",
      "  Downloading pydeck-0.8.0-py2.py3-none-any.whl (4.7 MB)\n",
      "\u001b[2K     \u001b[90m━━━━━━━━━━━━━━━━━━━━━━━━━━━━━━━━━━━━━━━━\u001b[0m \u001b[32m4.7/4.7 MB\u001b[0m \u001b[31m69.9 MB/s\u001b[0m eta \u001b[36m0:00:00\u001b[0mta \u001b[36m0:00:01\u001b[0m\n",
      "\u001b[?25hRequirement already satisfied: pillow>=6.2.0 in /home/jupyterlab/conda/envs/python/lib/python3.7/site-packages (from streamlit) (8.1.0)\n",
      "Collecting pyarrow>=4.0\n",
      "  Downloading pyarrow-11.0.0-cp37-cp37m-manylinux_2_17_x86_64.manylinux2014_x86_64.whl (35.1 MB)\n",
      "\u001b[2K     \u001b[90m━━━━━━━━━━━━━━━━━━━━━━━━━━━━━━━━━━━━━━━━\u001b[0m \u001b[32m35.1/35.1 MB\u001b[0m \u001b[31m47.1 MB/s\u001b[0m eta \u001b[36m0:00:00\u001b[0m00:01\u001b[0m00:01\u001b[0m\n",
      "\u001b[?25hRequirement already satisfied: pandas<2,>=0.25 in /home/jupyterlab/conda/envs/python/lib/python3.7/site-packages (from streamlit) (1.3.5)\n",
      "Collecting pympler>=0.9\n",
      "  Downloading Pympler-1.0.1-py3-none-any.whl (164 kB)\n",
      "\u001b[2K     \u001b[90m━━━━━━━━━━━━━━━━━━━━━━━━━━━━━━━━━━━━━━\u001b[0m \u001b[32m164.8/164.8 kB\u001b[0m \u001b[31m21.8 MB/s\u001b[0m eta \u001b[36m0:00:00\u001b[0m\n",
      "\u001b[?25hCollecting cachetools>=4.0\n",
      "  Downloading cachetools-5.3.0-py3-none-any.whl (9.3 kB)\n",
      "Requirement already satisfied: python-dateutil in /home/jupyterlab/conda/envs/python/lib/python3.7/site-packages (from streamlit) (2.8.2)\n",
      "Collecting toml\n",
      "  Using cached toml-0.10.2-py2.py3-none-any.whl (16 kB)\n",
      "Collecting tzlocal>=1.1\n",
      "  Downloading tzlocal-4.2-py3-none-any.whl (19 kB)\n",
      "Requirement already satisfied: importlib-metadata>=1.4 in /home/jupyterlab/conda/envs/python/lib/python3.7/site-packages (from streamlit) (4.11.4)\n",
      "Requirement already satisfied: jinja2 in /home/jupyterlab/conda/envs/python/lib/python3.7/site-packages (from altair<5,>=3.2.0->streamlit) (3.1.2)\n",
      "Requirement already satisfied: jsonschema>=3.0 in /home/jupyterlab/conda/envs/python/lib/python3.7/site-packages (from altair<5,>=3.2.0->streamlit) (4.17.3)\n",
      "Requirement already satisfied: entrypoints in /home/jupyterlab/conda/envs/python/lib/python3.7/site-packages (from altair<5,>=3.2.0->streamlit) (0.4)\n",
      "Requirement already satisfied: toolz in /home/jupyterlab/conda/envs/python/lib/python3.7/site-packages (from altair<5,>=3.2.0->streamlit) (0.12.0)\n",
      "Collecting gitdb<5,>=4.0.1\n",
      "  Using cached gitdb-4.0.10-py3-none-any.whl (62 kB)\n",
      "Requirement already satisfied: zipp>=0.5 in /home/jupyterlab/conda/envs/python/lib/python3.7/site-packages (from importlib-metadata>=1.4->streamlit) (3.11.0)\n",
      "Requirement already satisfied: pyparsing!=3.0.5,>=2.0.2 in /home/jupyterlab/conda/envs/python/lib/python3.7/site-packages (from packaging>=14.1->streamlit) (3.0.9)\n",
      "Requirement already satisfied: pytz>=2017.3 in /home/jupyterlab/conda/envs/python/lib/python3.7/site-packages (from pandas<2,>=0.25->streamlit) (2022.6)\n",
      "Requirement already satisfied: six>=1.5 in /home/jupyterlab/conda/envs/python/lib/python3.7/site-packages (from python-dateutil->streamlit) (1.16.0)\n",
      "Requirement already satisfied: charset-normalizer<3,>=2 in /home/jupyterlab/conda/envs/python/lib/python3.7/site-packages (from requests>=2.4->streamlit) (2.1.1)\n",
      "Requirement already satisfied: certifi>=2017.4.17 in /home/jupyterlab/conda/envs/python/lib/python3.7/site-packages (from requests>=2.4->streamlit) (2022.9.24)\n",
      "Requirement already satisfied: urllib3<1.27,>=1.21.1 in /home/jupyterlab/conda/envs/python/lib/python3.7/site-packages (from requests>=2.4->streamlit) (1.26.13)\n",
      "Requirement already satisfied: idna<4,>=2.5 in /home/jupyterlab/conda/envs/python/lib/python3.7/site-packages (from requests>=2.4->streamlit) (3.4)\n",
      "Requirement already satisfied: commonmark<0.10.0,>=0.9.0 in /home/jupyterlab/conda/envs/python/lib/python3.7/site-packages (from rich>=10.11.0->streamlit) (0.9.1)\n",
      "Requirement already satisfied: pygments<3.0.0,>=2.6.0 in /home/jupyterlab/conda/envs/python/lib/python3.7/site-packages (from rich>=10.11.0->streamlit) (2.13.0)\n",
      "Collecting pytz-deprecation-shim\n",
      "  Downloading pytz_deprecation_shim-0.1.0.post0-py2.py3-none-any.whl (15 kB)\n",
      "Collecting backports.zoneinfo\n",
      "  Downloading backports.zoneinfo-0.2.1-cp37-cp37m-manylinux1_x86_64.whl (70 kB)\n",
      "\u001b[2K     \u001b[90m━━━━━━━━━━━━━━━━━━━━━━━━━━━━━━━━━━━━━━━━\u001b[0m \u001b[32m70.7/70.7 kB\u001b[0m \u001b[31m10.9 MB/s\u001b[0m eta \u001b[36m0:00:00\u001b[0m\n",
      "\u001b[?25hRequirement already satisfied: decorator>=3.4.0 in /home/jupyterlab/conda/envs/python/lib/python3.7/site-packages (from validators>=0.2->streamlit) (5.1.1)\n",
      "Collecting smmap<6,>=3.0.1\n",
      "  Using cached smmap-5.0.0-py3-none-any.whl (24 kB)\n",
      "Requirement already satisfied: MarkupSafe>=2.0 in /home/jupyterlab/conda/envs/python/lib/python3.7/site-packages (from jinja2->altair<5,>=3.2.0->streamlit) (2.1.1)\n",
      "Requirement already satisfied: importlib-resources>=1.4.0 in /home/jupyterlab/conda/envs/python/lib/python3.7/site-packages (from jsonschema>=3.0->altair<5,>=3.2.0->streamlit) (5.10.1)\n",
      "Requirement already satisfied: attrs>=17.4.0 in /home/jupyterlab/conda/envs/python/lib/python3.7/site-packages (from jsonschema>=3.0->altair<5,>=3.2.0->streamlit) (22.1.0)\n",
      "Requirement already satisfied: pkgutil-resolve-name>=1.3.10 in /home/jupyterlab/conda/envs/python/lib/python3.7/site-packages (from jsonschema>=3.0->altair<5,>=3.2.0->streamlit) (1.3.10)\n",
      "Requirement already satisfied: pyrsistent!=0.17.0,!=0.17.1,!=0.17.2,>=0.14.0 in /home/jupyterlab/conda/envs/python/lib/python3.7/site-packages (from jsonschema>=3.0->altair<5,>=3.2.0->streamlit) (0.19.2)\n",
      "Collecting tzdata\n",
      "  Downloading tzdata-2022.7-py2.py3-none-any.whl (340 kB)\n",
      "\u001b[2K     \u001b[90m━━━━━━━━━━━━━━━━━━━━━━━━━━━━━━━━━━━━━━\u001b[0m \u001b[32m340.1/340.1 kB\u001b[0m \u001b[31m40.9 MB/s\u001b[0m eta \u001b[36m0:00:00\u001b[0m\n",
      "\u001b[?25hBuilding wheels for collected packages: validators\n",
      "  Building wheel for validators (setup.py) ... \u001b[?25ldone\n",
      "\u001b[?25h  Created wheel for validators: filename=validators-0.20.0-py3-none-any.whl size=19581 sha256=faf13f56346d3368c256ee0f49b36784f1429282808b7b960274e6053abb05f0\n",
      "  Stored in directory: /home/jupyterlab/.cache/pip/wheels/3d/7c/f1/f87f51d07a2513aa0fb128d5eb504da1fcef9c87475d9eef64\n",
      "Successfully built validators\n",
      "Installing collected packages: watchdog, validators, tzdata, toml, smmap, semver, pympler, pyarrow, protobuf, cachetools, blinker, backports.zoneinfo, pytz-deprecation-shim, pydeck, gitdb, tzlocal, gitpython, altair, streamlit\n",
      "  Attempting uninstall: protobuf\n",
      "    Found existing installation: protobuf 4.21.8\n",
      "    Uninstalling protobuf-4.21.8:\n",
      "      Successfully uninstalled protobuf-4.21.8\n",
      "Successfully installed altair-4.2.2 backports.zoneinfo-0.2.1 blinker-1.5 cachetools-5.3.0 gitdb-4.0.10 gitpython-3.1.31 protobuf-3.20.3 pyarrow-11.0.0 pydeck-0.8.0 pympler-1.0.1 pytz-deprecation-shim-0.1.0.post0 semver-2.13.0 smmap-5.0.0 streamlit-1.20.0 toml-0.10.2 tzdata-2022.7 tzlocal-4.2 validators-0.20.0 watchdog-2.3.1\n"
     ]
    }
   ],
   "source": [
    "!pip install streamlit"
   ]
  },
  {
   "cell_type": "code",
   "execution_count": 10,
   "id": "6b1b0aab-b328-4a0b-9614-92f674926a83",
   "metadata": {},
   "outputs": [
    {
     "name": "stderr",
     "output_type": "stream",
     "text": [
      "2023-03-16 22:44:36.646 INFO    matplotlib.font_manager: generated new fontManager\n"
     ]
    }
   ],
   "source": [
    "import streamlit as st\n",
    "import yfinance as yf\n",
    "import pandas as pd"
   ]
  },
  {
   "cell_type": "code",
   "execution_count": 11,
   "id": "b43be5b0-2c63-4c50-bb70-f43901bff757",
   "metadata": {},
   "outputs": [
    {
     "name": "stderr",
     "output_type": "stream",
     "text": [
      "2023-03-16 22:44:53.521 \n",
      "  \u001b[33m\u001b[1mWarning:\u001b[0m to view this Streamlit app on a browser, run it with the following\n",
      "  command:\n",
      "\n",
      "    streamlit run /home/jupyterlab/conda/envs/python/lib/python3.7/site-packages/ipykernel_launcher.py [ARGUMENTS]\n"
     ]
    },
    {
     "data": {
      "text/plain": [
       "DeltaGenerator(_root_container=0, _provided_cursor=None, _parent=None, _block_type=None, _form_data=None)"
      ]
     },
     "execution_count": 11,
     "metadata": {},
     "output_type": "execute_result"
    }
   ],
   "source": [
    "st.write(\"\"\"\n",
    "# Tesla Stock and Revenue Dashboard\n",
    "Shown are the stock closing price and revenue of Tesla!\n",
    "\"\"\")\n",
    "\n",
    "# Define the ticker symbol\n",
    "ticker_symbol = 'TSLA'\n",
    "\n",
    "# Get data on this ticker\n",
    "ticker_data = yf.Ticker(ticker_symbol)\n",
    "\n",
    "# Get the historical prices for this ticker\n",
    "ticker_df = ticker_data.history(period='1d', start='2010-1-1', end='2023-3-16')\n",
    "\n",
    "st.line_chart(ticker_df.Close)\n",
    "st.line_chart(ticker_df.Volume)"
   ]
  },
  {
   "cell_type": "code",
   "execution_count": 12,
   "id": "ac3961ea-837e-4ca9-a1c7-cf5d7ac9a30f",
   "metadata": {},
   "outputs": [
    {
     "ename": "SyntaxError",
     "evalue": "invalid syntax (3261072568.py, line 1)",
     "output_type": "error",
     "traceback": [
      "\u001b[0;36m  File \u001b[0;32m\"/tmp/ipykernel_332/3261072568.py\"\u001b[0;36m, line \u001b[0;32m1\u001b[0m\n\u001b[0;31m    streamlit run tesla_dashboard.py\u001b[0m\n\u001b[0m                ^\u001b[0m\n\u001b[0;31mSyntaxError\u001b[0m\u001b[0;31m:\u001b[0m invalid syntax\n"
     ]
    }
   ],
   "source": [
    "streamlit run tesla_dashboard.py"
   ]
  },
  {
   "cell_type": "code",
   "execution_count": 13,
   "id": "2d64a9aa-028a-4998-9962-bb0522ccc823",
   "metadata": {},
   "outputs": [
    {
     "data": {
      "image/png": "[encoded data removed]",
      "text/plain": [
       "<Figure size 1000x600 with 1 Axes>"
      ]
     },
     "metadata": {},
     "output_type": "display_data"
    }
   ],
   "source": [
    "import matplotlib.pyplot as plt\n",
    "\n",
    "def make_graph(stock_data, title):\n",
    "    plt.figure(figsize=(10, 6))\n",
    "    plt.plot(stock_data['Close'])\n",
    "    plt.xlabel('Date')\n",
    "    plt.ylabel('Close Price')\n",
    "    plt.title(title)\n",
    "    plt.show()\n",
    "\n",
    "# Assuming the DataFrame is named 'tesla_stock_data' from the previous example\n",
    "make_graph(tesla_stock_data, \"Tesla Stock Data\")"
   ]
  },
  {
   "cell_type": "code",
   "execution_count": null,
   "id": "a30065bf-7263-4ed0-88fa-686a997030cc",
   "metadata": {},
   "outputs": [],
   "source": []
  }
 ],
 "metadata": {
  "kernelspec": {
   "display_name": "Python",
   "language": "python",
   "name": "conda-env-python-py"
  },
  "language_info": {
   "codemirror_mode": {
    "name": "ipython",
    "version": 3
   },
   "file_extension": ".py",
   "mimetype": "text/x-python",
   "name": "python",
   "nbconvert_exporter": "python",
   "pygments_lexer": "ipython3",
   "version": "3.7.12"
  }
 },
 "nbformat": 4,
 "nbformat_minor": 5
}
